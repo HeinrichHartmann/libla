{
 "cells": [
  {
   "cell_type": "code",
   "execution_count": 1,
   "id": "suffering-pressure",
   "metadata": {},
   "outputs": [],
   "source": [
    "import os\n",
    "import sys\n",
    "sys.path.insert(0, os.path.abspath('..'))\n",
    "from libla import Matrix, Vect"
   ]
  },
  {
   "cell_type": "code",
   "execution_count": 2,
   "id": "annoying-mambo",
   "metadata": {},
   "outputs": [],
   "source": [
    "X = Matrix.rand_rk(10, 5, 3)"
   ]
  },
  {
   "cell_type": "code",
   "execution_count": 3,
   "id": "sound-focus",
   "metadata": {},
   "outputs": [
    {
     "name": "stdout",
     "output_type": "stream",
     "text": [
      "Matrix[10,5]{\n",
      " [ -0.13   0.58   0.13   0.09  -0.65]\n",
      " [  0.54      1    0.7    2.1   0.34]\n",
      " [  0.25  -0.13   -1.5   -0.7    1.7]\n",
      " [ 0.054    1.4   -1.4  -0.32   0.51]\n",
      " [ -0.47    0.6  -0.35  -0.95   -1.1]\n",
      " [ -0.29    1.1   0.66    0.4   -1.6]\n",
      " [  0.84 -0.056  -0.44    1.3    2.3]\n",
      " [  0.24   -1.8  0.046  -0.29    1.3]\n",
      " [  0.15  -0.65    1.8    1.4  -0.64]\n",
      " [  0.02  -0.92   0.86   0.29  -0.17] \n",
      "}\n"
     ]
    }
   ],
   "source": [
    "print(X)"
   ]
  },
  {
   "cell_type": "code",
   "execution_count": 4,
   "id": "common-school",
   "metadata": {},
   "outputs": [
    {
     "data": {
      "text/latex": [
       "\\begin{bmatrix}\n",
       "  -0.13 & 0.58 & 0.13 & 0.09 & -0.65\\\\\n",
       "  0.54 & 1 & 0.7 & 2.1 & 0.34\\\\\n",
       "  0.25 & -0.13 & -1.5 & -0.7 & 1.7\\\\\n",
       "  0.054 & 1.4 & -1.4 & -0.32 & 0.51\\\\\n",
       "  -0.47 & 0.6 & -0.35 & -0.95 & -1.1\\\\\n",
       "  -0.29 & 1.1 & 0.66 & 0.4 & -1.6\\\\\n",
       "  0.84 & -0.056 & -0.44 & 1.3 & 2.3\\\\\n",
       "  0.24 & -1.8 & 0.046 & -0.29 & 1.3\\\\\n",
       "  0.15 & -0.65 & 1.8 & 1.4 & -0.64\\\\\n",
       "  0.02 & -0.92 & 0.86 & 0.29 & -0.17\\\\\n",
       "\\end{bmatrix}"
      ],
      "text/plain": [
       "Matrix([[-0.12976376,  0.57691315,  0.12944123,  0.08975084, -0.64818211],\n",
       "        [ 0.54151496,  0.99675512,  0.70317108,  2.07137492,  0.3428745 ],\n",
       "        [ 0.24943987, -0.1255469 , -1.50646426, -0.70015313,  1.72843878],\n",
       "        [ 0.05357093,  1.37664882, -1.35359816, -0.31952389,  0.50873136],\n",
       "        [-0.46711086,  0.5979396 , -0.35398341, -0.95301926, -1.1056094 ],\n",
       "        [-0.28740141,  1.07974845,  0.65932929,  0.39618038, -1.61877723],\n",
       "        [ 0.84310303, -0.05623248, -0.43995404,  1.34637536,  2.33217041],\n",
       "        [ 0.23760821, -1.83289948,  0.04593779, -0.28977186,  1.31749175],\n",
       "        [ 0.14655227, -0.65439698,  1.76040717,  1.35279495, -0.64031024],\n",
       "        [ 0.01974819, -0.92492754,  0.85500708,  0.28597869, -0.17095281]])"
      ]
     },
     "execution_count": 4,
     "metadata": {},
     "output_type": "execute_result"
    }
   ],
   "source": [
    "X # Pretty printing by default"
   ]
  },
  {
   "cell_type": "code",
   "execution_count": 5,
   "id": "immediate-claim",
   "metadata": {},
   "outputs": [
    {
     "data": {
      "text/latex": [
       "\\begin{bmatrix}\n",
       "  0.54 & 1 & 0.7 & 2.1 & 0.34\\\\\n",
       "  0.25 & -0.13 & -1.5 & -0.7 & 1.7\\\\\n",
       "\\end{bmatrix}"
      ],
      "text/plain": [
       "Matrix([[ 0.54151496,  0.99675512,  0.70317108,  2.07137492,  0.3428745 ],\n",
       "        [ 0.24943987, -0.1255469 , -1.50646426, -0.70015313,  1.72843878]])"
      ]
     },
     "execution_count": 5,
     "metadata": {},
     "output_type": "execute_result"
    }
   ],
   "source": [
    "X[1:3] # Matrix subclasses np.array. So all numpy array operations are available."
   ]
  },
  {
   "cell_type": "code",
   "execution_count": 6,
   "id": "serial-evaluation",
   "metadata": {},
   "outputs": [
    {
     "name": "stdout",
     "output_type": "stream",
     "text": [
      "Matrix[2,5]{\n",
      " [  0.54      1    0.7    2.1   0.34]\n",
      " [  0.25  -0.13   -1.5   -0.7    1.7] \n",
      "}\n"
     ]
    }
   ],
   "source": [
    "print(X[1:3])"
   ]
  },
  {
   "cell_type": "code",
   "execution_count": 7,
   "id": "hourly-fever",
   "metadata": {},
   "outputs": [
    {
     "data": {
      "text/plain": [
       "3"
      ]
     },
     "execution_count": 7,
     "metadata": {},
     "output_type": "execute_result"
    }
   ],
   "source": [
    "X.rank()"
   ]
  },
  {
   "cell_type": "code",
   "execution_count": 8,
   "id": "hearing-bandwidth",
   "metadata": {},
   "outputs": [
    {
     "data": {
      "text/plain": [
       "3"
      ]
     },
     "execution_count": 8,
     "metadata": {},
     "output_type": "execute_result"
    }
   ],
   "source": [
    "V = Vect.Im(X) # Image vector space\n",
    "V.dim()"
   ]
  },
  {
   "cell_type": "code",
   "execution_count": 10,
   "id": "billion-confidentiality",
   "metadata": {},
   "outputs": [
    {
     "data": {
      "text/plain": [
       "False"
      ]
     },
     "execution_count": 10,
     "metadata": {},
     "output_type": "execute_result"
    }
   ],
   "source": [
    "V.contains([1,2,3,4,5,6,7,8,9,10]) # Check if vector is contained in image"
   ]
  },
  {
   "cell_type": "code",
   "execution_count": 11,
   "id": "suffering-transsexual",
   "metadata": {},
   "outputs": [
    {
     "data": {
      "text/plain": [
       "True"
      ]
     },
     "execution_count": 11,
     "metadata": {},
     "output_type": "execute_result"
    }
   ],
   "source": [
    "V.contains(X.get_col(0)) # V contains columns of X"
   ]
  },
  {
   "cell_type": "code",
   "execution_count": 12,
   "id": "conscious-greensboro",
   "metadata": {},
   "outputs": [
    {
     "data": {
      "text/latex": [
       "\\begin{bmatrix}\n",
       "  -0.78 & 3.1 & -1.2 & -2.8 & -3.2 & -0.99 & 3.4 & 2.4 & 4 & 2.1\\\\\n",
       "\\end{bmatrix}"
      ],
      "text/plain": [
       "Vect([-0.77538556,  3.13012074, -1.16030557, -2.79290949, -3.19879147,\n",
       "      -0.99006752,  3.38787505,  2.36208687,  3.96737535,  2.05706154])"
      ]
     },
     "execution_count": 12,
     "metadata": {},
     "output_type": "execute_result"
    }
   ],
   "source": [
    "x = V.project([1,2,3,4,5,6,7,8,9,10]) # Project a vector to V\n",
    "x"
   ]
  },
  {
   "cell_type": "code",
   "execution_count": 13,
   "id": "informal-reception",
   "metadata": {},
   "outputs": [
    {
     "data": {
      "text/plain": [
       "True"
      ]
     },
     "execution_count": 13,
     "metadata": {},
     "output_type": "execute_result"
    }
   ],
   "source": [
    "V.contains(x)"
   ]
  },
  {
   "cell_type": "code",
   "execution_count": null,
   "id": "lightweight-reader",
   "metadata": {},
   "outputs": [],
   "source": []
  }
 ],
 "metadata": {
  "kernelspec": {
   "display_name": "Python 3",
   "language": "python",
   "name": "python3"
  },
  "language_info": {
   "codemirror_mode": {
    "name": "ipython",
    "version": 3
   },
   "file_extension": ".py",
   "mimetype": "text/x-python",
   "name": "python",
   "nbconvert_exporter": "python",
   "pygments_lexer": "ipython3",
   "version": "3.8.6"
  }
 },
 "nbformat": 4,
 "nbformat_minor": 5
}
